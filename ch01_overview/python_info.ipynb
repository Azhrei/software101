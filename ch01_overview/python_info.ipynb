{
 "cells": [
  {
   "cell_type": "markdown",
   "metadata": {},
   "source": [
    "## How this works\n",
    "\n",
    "Each cell that you see below could be Python code, documentation (like this cell), or just raw text.\n",
    "\n",
    "Because LaTeX markup can be embedded in the documentation cells, you can create fancy equations and such within the Python code, like this (finding the radius of a sphere when you know the volume): &#128516;\n",
    "\n",
    "$$r = \\sqrt[3]{\\frac{3v}{4\\pi}}$$"
   ]
  },
  {
   "cell_type": "code",
   "execution_count": 2,
   "metadata": {},
   "outputs": [],
   "source": [
    "import sys\n",
    "import pprint"
   ]
  },
  {
   "cell_type": "markdown",
   "metadata": {},
   "source": [
    "This next loop automatically creates a variable named `item` and assigns it the first value in the list, `path`.  It then executes the loop body with that variable.  When the body completes, the loop returns to the top and assigns `item` the next value in the list, `version`.  This continues until the list is exhausted."
   ]
  },
  {
   "cell_type": "markdown",
   "metadata": {},
   "source": [
    "The `print` function uses a special format that causes the `item` variable to be centered within a field that is 80 characters wide, but filled with equal signs instead of spaces.  This gives a nice _header_ effect between each iteration of the loop."
   ]
  },
  {
   "cell_type": "code",
   "execution_count": 3,
   "metadata": {
    "scrolled": true
   },
   "outputs": [
    {
     "name": "stdout",
     "output_type": "stream",
     "text": [
      "\n",
      "======================================path======================================\n",
      "['/home/student/PycharmProjects/software101/ch01_overview',\n",
      " '/home/student/anaconda3/lib/python37.zip',\n",
      " '/home/student/anaconda3/lib/python3.7',\n",
      " '/home/student/anaconda3/lib/python3.7/lib-dynload',\n",
      " '',\n",
      " '/home/student/anaconda3/lib/python3.7/site-packages',\n",
      " '/home/student/anaconda3/lib/python3.7/site-packages/IPython/extensions',\n",
      " '/home/student/.ipython']\n",
      "\n",
      "====================================version=====================================\n",
      "'3.7.3 (default, Mar 27 2019, 22:11:17) \\n[GCC 7.3.0]'\n",
      "\n",
      "=================================implementation=================================\n",
      "namespace(_multiarch='x86_64-linux-gnu', cache_tag='cpython-37', hexversion=50791408, name='cpython', version=sys.version_info(major=3, minor=7, micro=3, releaselevel='final', serial=0))\n"
     ]
    }
   ],
   "source": [
    "for item in ('path', 'version', 'implementation'):\n",
    "    print(\"\\n{0:=^80}\".format(item))\n",
    "    pprint.pprint(vars(sys)[item])"
   ]
  },
  {
   "cell_type": "markdown",
   "metadata": {},
   "source": [
    "## Wrapup\n",
    "\n",
    "You should see the same output that you saw when you ran a similar script inside `PyCharm`.\n",
    "\n",
    "The fields being displayed are:\n",
    "\n",
    "+  `path`:  the list of directories that Python searches when it executes an `import` statement\n",
    "+  `version`:  version information for the currently executing Python engine\n",
    "+  `implementation`:  an expanded form of `version` that provides more detail"
   ]
  }
 ],
 "metadata": {
  "kernelspec": {
   "display_name": "Python 3",
   "language": "python",
   "name": "python3"
  },
  "language_info": {
   "codemirror_mode": {
    "name": "ipython",
    "version": 3
   },
   "file_extension": ".py",
   "mimetype": "text/x-python",
   "name": "python",
   "nbconvert_exporter": "python",
   "pygments_lexer": "ipython3",
   "version": "3.7.3"
  }
 },
 "nbformat": 4,
 "nbformat_minor": 2
}
